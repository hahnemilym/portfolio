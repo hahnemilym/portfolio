{
 "cells": [
  {
   "cell_type": "code",
   "execution_count": null,
   "id": "2a488448-bc60-432b-bf3e-0b277f7ca256",
   "metadata": {},
   "outputs": [],
   "source": [
    "import statsmodels.formula.api as smf"
   ]
  },
  {
   "cell_type": "markdown",
   "id": "a2323fd9-4534-4ee9-8e20-bbd2ed36d345",
   "metadata": {},
   "source": [
    "### Define the LME Model"
   ]
  },
  {
   "cell_type": "markdown",
   "id": "c42ea6af-aa09-4810-8991-38d04b255ea9",
   "metadata": {},
   "source": [
    "$y = \\underbrace{X\\beta}_\\textrm{Fixed effects} + \\underbrace{Zu}_\\textrm{Random effects} + \\underbrace{\\epsilon}_\\textrm{error term}$\n",
    "\n",
    "_Where_\n",
    "\n",
    "$Z$ is a $N$ x $q$ design matrix that contains the observed values for each individual $(N)$ for each covariate $(q)$ of the random effects\n",
    "\n",
    "$u$ is a $q$ x $1$ vector that contains the random effects of the $q$ covariates in matrix $Z$"
   ]
  },
  {
   "cell_type": "code",
   "execution_count": null,
   "id": "4f199581-b18a-48dd-a29f-f7bd7fa13d65",
   "metadata": {},
   "outputs": [],
   "source": [
    "def Linear_Mixed_Effects_Model(df):\n",
    "    X_variables = [col for col in df.columns if '_X' in col]\n",
    "    y_variables = [col for col in df.columns if '_y' in col]\n",
    "    for X in X_variables:\n",
    "        for y in y_variables:\n",
    "            md = smf.mixedlm('%s ~ %s' % (X,y),data=df,groups=\"group\")\n",
    "            mdf = md.fit()\n",
    "    return mdf"
   ]
  },
  {
   "cell_type": "markdown",
   "id": "98124dfb-9793-4347-964a-1efd7524f7da",
   "metadata": {},
   "source": [
    "### Run the LME Model"
   ]
  },
  {
   "cell_type": "code",
   "execution_count": null,
   "id": "0db15d42-1bb8-4cfa-acc6-db7d7cde9f34",
   "metadata": {},
   "outputs": [],
   "source": [
    "mdf = Linear_Mixed_Effects_Model(df)"
   ]
  },
  {
   "cell_type": "markdown",
   "id": "8851b9e6-4d36-46e3-9c89-8ae3e75a1157",
   "metadata": {},
   "source": [
    "### Review Summary Statistics"
   ]
  },
  {
   "cell_type": "code",
   "execution_count": null,
   "id": "77c94983-7353-4538-aade-5a6fca44407d",
   "metadata": {},
   "outputs": [],
   "source": [
    "print(mdf.summary())"
   ]
  }
 ],
 "metadata": {
  "kernelspec": {
   "display_name": "Python 3 (ipykernel)",
   "language": "python",
   "name": "python3"
  },
  "language_info": {
   "codemirror_mode": {
    "name": "ipython",
    "version": 3
   },
   "file_extension": ".py",
   "mimetype": "text/x-python",
   "name": "python",
   "nbconvert_exporter": "python",
   "pygments_lexer": "ipython3",
   "version": "3.9.12"
  }
 },
 "nbformat": 4,
 "nbformat_minor": 5
}
