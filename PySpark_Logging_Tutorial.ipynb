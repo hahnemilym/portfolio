{
 "cells": [
  {
   "cell_type": "markdown",
   "id": "8c7afc95-6d6a-4196-8766-958af09a7c2d",
   "metadata": {},
   "source": [
    "## PySpark Logging Tutorial"
   ]
  },
  {
   "cell_type": "code",
   "execution_count": 51,
   "id": "13161f78-a978-4662-b615-b1229fff9fc5",
   "metadata": {},
   "outputs": [],
   "source": [
    "##-- Import required libraries\n",
    "import os\n",
    "import re\n",
    "import pyspark as ps\n",
    "from pyspark.sql import SparkSession"
   ]
  },
  {
   "cell_type": "code",
   "execution_count": 52,
   "id": "45620ccf-1389-40b2-a125-0fdd4f48c2ba",
   "metadata": {},
   "outputs": [],
   "source": [
    "##-- Create a SparkSession object and set its application name\n",
    "spark = SparkSession.builder.appName(\"PySpark Logging Tutorial\").getOrCreate()\n",
    "##-- Set the log level for Spark\n",
    "spark.sparkContext.setLogLevel(\"WARN\")"
   ]
  },
  {
   "cell_type": "code",
   "execution_count": 53,
   "id": "ee30d2f8-716f-459b-8671-7facd5f808fb",
   "metadata": {},
   "outputs": [],
   "source": [
    "##-- Open a file containing the directory path\n",
    "with open('path.txt') as f:\n",
    "    dir_path = f.readline()\n",
    "##-- Combine the directory path with the name of the log file to create a full path\n",
    "logFile = os.path.join(dir_path,\"README.md\")"
   ]
  },
  {
   "cell_type": "code",
   "execution_count": 54,
   "id": "68e6eb64-badf-4edf-b85b-0887b6ba5df9",
   "metadata": {},
   "outputs": [],
   "source": [
    "##-- Read the log file into a DataFrame and cache it in memory for faster processing\n",
    "logData = spark.read.text(logFile).cache()\n",
    "\n",
    "##-- Define a lambda function to filter the log data by a given criteria and count the number of matching lines\n",
    "log_filter = lambda criteria: logData.filter(logData.value.contains(\"%s\" % criteria)).count()"
   ]
  },
  {
   "cell_type": "code",
   "execution_count": 55,
   "id": "f97e6b3d-0a9e-484b-9862-b5c796ebc639",
   "metadata": {},
   "outputs": [
    {
     "name": "stdout",
     "output_type": "stream",
     "text": [
      "Lines with OutOfMermoryError: 0, lines with FetchFailedException: 0\n"
     ]
    }
   ],
   "source": [
    "##-- Define two criteria and count the number of lines that match each one\n",
    "c1_count = log_filter(\"OutOfMemoryError\")\n",
    "c2_count = log_filter(\"FetchFailedException\")\n",
    "\n",
    "print(\"Lines with %s: %i, lines with %s: %i\" % (c1,c1_count,c2,c2_count))"
   ]
  },
  {
   "cell_type": "code",
   "execution_count": 63,
   "id": "97569957-cf96-4957-877c-c2c8efdf5e5d",
   "metadata": {},
   "outputs": [
    {
     "name": "stdout",
     "output_type": "stream",
     "text": [
      "{'OutOfMermoryError': 0, 'FetchFailedException': 0}\n"
     ]
    }
   ],
   "source": [
    "def search_logfile(logFile,*argv):\n",
    "    \n",
    "    log_results = {}\n",
    "    \n",
    "    for criteria in argv:  \n",
    "        log_results[\"%s\" % criteria] = 0\n",
    "    \n",
    "    for line in logFile:\n",
    "        for criteria in argv:\n",
    "            if re.compile(r\"%s\" % criteria).search(line):\n",
    "                log_results[\"%s\" % criteria] += 1\n",
    "            else: pass\n",
    "    \n",
    "    return log_results\n",
    "\n",
    "log_results = search_logfile(logFile,c1,c2)\n",
    "\n",
    "print(log_results)"
   ]
  },
  {
   "cell_type": "code",
   "execution_count": 60,
   "id": "625bcf8d-a320-48af-bc8b-6bdbd5163e31",
   "metadata": {},
   "outputs": [],
   "source": [
    "##-- Stop the SparkSession\n",
    "spark.stop()"
   ]
  }
 ],
 "metadata": {
  "kernelspec": {
   "display_name": "Python 3 (ipykernel)",
   "language": "python",
   "name": "python3"
  },
  "language_info": {
   "codemirror_mode": {
    "name": "ipython",
    "version": 3
   },
   "file_extension": ".py",
   "mimetype": "text/x-python",
   "name": "python",
   "nbconvert_exporter": "python",
   "pygments_lexer": "ipython3",
   "version": "3.9.12"
  },
  "toc-autonumbering": false
 },
 "nbformat": 4,
 "nbformat_minor": 5
}
