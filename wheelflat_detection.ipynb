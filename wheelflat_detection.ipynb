{
 "cells": [
  {
   "cell_type": "markdown",
   "id": "c51c70d8-bbbe-4b73-aaf4-39f85f4e45fd",
   "metadata": {
    "tags": []
   },
   "source": [
    "### Wheelflat Detection\n",
    "\n",
    "Simple algorithm to detect a wheelflat using ultrasonic equipment data loosely based on the criteria defined in the AAR Manual of Standards and Recommended Practices:\n",
    "\n",
    "Assumptions:\n",
    "- Ultrasonic equipment outputs wheel tread profile data \n",
    "- Data includes a series of depth measurements across the tread surface `*`\n",
    "- Hardness is not accounted for in this example\n",
    "- Threshold values for length and depth are defined as:\n",
    "  - MAX_DEPTH_THRESHOLD (e.g., 0.020 cm)\n",
    "  - MIN_LENGTH_THRESHOLD (e.g., 2.0 cm)\n",
    "  \n",
    "`*` _Only one type of depth measurement (arbitrary) is used in this example_"
   ]
  },
  {
   "cell_type": "code",
   "execution_count": 1,
   "id": "d64f07da-039b-475b-a19e-264e0bf566fa",
   "metadata": {},
   "outputs": [],
   "source": [
    "import numpy as np\n",
    "import matplotlib.pyplot as plt\n",
    "import seaborn as sns"
   ]
  },
  {
   "cell_type": "markdown",
   "id": "dcec17f1-982b-4053-ab2c-c96c9cc88c99",
   "metadata": {},
   "source": [
    "### Simplified wheelflat detection algorithm"
   ]
  },
  {
   "cell_type": "code",
   "execution_count": 2,
   "id": "a46529aa-3245-4822-a86c-3d0eefc66e12",
   "metadata": {},
   "outputs": [],
   "source": [
    "def detect_wheelflat(profile_data, max_depth_threshold, min_length_threshold, sample_spacing):\n",
    "    \"\"\"\n",
    "    Detects a wheelflat on a wheel tread profile.\n",
    "\n",
    "    Args:\n",
    "        profile_data (list): List of depth measurements across the tread\n",
    "        max_depth_threshold (float): Maximum allowable depth threshold (cm)\n",
    "        min_length_threshold (float): Minimum length of flat (cm)\n",
    "        sample_spacing (float): Sampling rate of profile data (e.g., distance between consecutive points in cm). Adjust based on equipment settings\n",
    "\n",
    "    Returns:\n",
    "        dict: Detection result with \"wheelflat_detected\" (bool),\n",
    "              \"flat_length\" (float), and \"flat_depth\" (float).\n",
    "    \"\"\"\n",
    "\n",
    "    ##-- Initialize variables\n",
    "    flat_detected = False\n",
    "    flat_start = None\n",
    "    flat_depth = 0\n",
    "\n",
    "    ##-- Iterate through the profile data to find regions exceeding depth threshold\n",
    "    for i, depth in enumerate(profile_data):\n",
    "        if depth >= max_depth_threshold:\n",
    "            ##-- Start of potential flat\n",
    "            if flat_start is None:\n",
    "                flat_start = i\n",
    "            ##-- Track maximum depth in the region\n",
    "            flat_depth = max(flat_depth, depth)\n",
    "        else:\n",
    "            ##-- End of potential flat\n",
    "            if flat_start is not None:\n",
    "                flat_end = i\n",
    "                flat_length = (flat_end - flat_start) * sample_spacing\n",
    "\n",
    "                ##-- Check if length exceeds threshold\n",
    "                if flat_length >= min_length_threshold:\n",
    "                    flat_detected = True\n",
    "                    return {\n",
    "                        \"wheelflat_detected\": True,\n",
    "                        \"flat_length\": flat_length,\n",
    "                        \"flat_depth\": flat_depth,\n",
    "                    }\n",
    "\n",
    "                ##-- Reset flat tracking\n",
    "                flat_start = None\n",
    "                flat_depth = 0\n",
    "\n",
    "    ##-- No wheelflat detected\n",
    "    return {\n",
    "        \"wheelflat_detected\": False,\n",
    "        \"flat_length\": 0,\n",
    "        \"flat_depth\": 0,\n",
    "    }"
   ]
  },
  {
   "cell_type": "markdown",
   "id": "754fcd5e-aaa7-493a-8449-c48a646c9fb9",
   "metadata": {},
   "source": [
    "### Generate sample profile data for wheelflat"
   ]
  },
  {
   "cell_type": "code",
   "execution_count": 3,
   "id": "c27ec120-2558-4694-aa94-8cfcbcdaf074",
   "metadata": {},
   "outputs": [],
   "source": [
    "def generate_sample_profile_data(num_points, flat_start, flat_end, flat_depth, noise_level):\n",
    "    \"\"\"\n",
    "    Generates sample wheel tread profile data with a simulated flat defect.\n",
    "\n",
    "    Args:\n",
    "        num_points (int): Total number of data points in the profile\n",
    "        flat_start (int): Index where the flat defect starts\n",
    "        flat_end (int): Index where the flat defect ends\n",
    "        flat_depth (float): Depth of the flat defect\n",
    "        noise_level (float): Amplitude of random noise added to the baseline profile\n",
    "\n",
    "    Returns:\n",
    "        list: Simulated wheel tread profile data.\n",
    "    \"\"\"\n",
    "    ##-- Baseline profile w/ slight random variations\n",
    "    np.random.seed(42)  #-- For reproducibility\n",
    "    baseline_profile = np.random.normal(loc=0.0, scale=noise_level, size=num_points)\n",
    "\n",
    "    ##-- Introduce flat defect\n",
    "    baseline_profile[flat_start:flat_end] = flat_depth\n",
    "\n",
    "    return baseline_profile.tolist()"
   ]
  },
  {
   "cell_type": "markdown",
   "id": "e8c09bfa-8593-4800-8cec-c8a38b2b754f",
   "metadata": {},
   "source": [
    "### Test wheelflat detection"
   ]
  },
  {
   "cell_type": "code",
   "execution_count": 4,
   "id": "255d052e-958d-4a35-8248-35fac8bbed71",
   "metadata": {},
   "outputs": [
    {
     "name": "stdout",
     "output_type": "stream",
     "text": [
      "{'wheelflat_detected': True, 'flat_length': 1.0, 'flat_depth': 0.025}\n"
     ]
    }
   ],
   "source": [
    "d = {\n",
    "    \"num_points\":100,\n",
    "    \"flat_start\":40,\n",
    "    \"flat_end\":50,\n",
    "    \"flat_depth\":0.025,\n",
    "    \"noise_level\":0.005,\n",
    "    \"max_depth_threshold\":0.020,\n",
    "    \"min_length_threshold\":1.0,\n",
    "    \"sample_spacing\":0.1,\n",
    "}\n",
    "\n",
    "sample_profile_data = generate_sample_profile_data(\n",
    "    num_points=d[\"num_points\"], \n",
    "    flat_start=d[\"flat_start\"], \n",
    "    flat_end=d[\"flat_end\"], \n",
    "    flat_depth=d[\"flat_depth\"], \n",
    "    noise_level=d[\"noise_level\"]\n",
    ")\n",
    "\n",
    "result = detect_wheelflat(\n",
    "    sample_profile_data, \n",
    "    max_depth_threshold=d[\"max_depth_threshold\"], \n",
    "    min_length_threshold=d[\"min_length_threshold\"], \n",
    "    sample_spacing=d[\"sample_spacing\"]\n",
    ")\n",
    "\n",
    "print(result)"
   ]
  },
  {
   "cell_type": "markdown",
   "id": "eae8764a-d9c3-475b-a055-187f2f63313f",
   "metadata": {},
   "source": [
    "### Visualize tread depths that exceed threshold for wheelflat"
   ]
  },
  {
   "cell_type": "code",
   "execution_count": 7,
   "id": "a0451527-76f5-4fbc-a746-2e6d3568cea6",
   "metadata": {},
   "outputs": [
    {
     "data": {
      "image/png": "[encoded data removed]",
      "text/plain": [
       "<Figure size 864x576 with 1 Axes>"
      ]
     },
     "metadata": {
      "needs_background": "light"
     },
     "output_type": "display_data"
    }
   ],
   "source": [
    "##-- Specify plot width and height (2x default size)\n",
    "plt.figure(figsize=(12, 8))  \n",
    "\n",
    "##-- Create an array to hold colors for each point\n",
    "colors = ['blue'] * len(sample_profile_data)\n",
    "\n",
    "##-- Highlight points exceeding max_depth_threshold\n",
    "for i, depth in enumerate(sample_profile_data):\n",
    "    if depth >= d[\"max_depth_threshold\"]:\n",
    "        colors[i] = 'red'\n",
    "\n",
    "##-- Plot data\n",
    "sns.scatterplot(\n",
    "    x=np.arange(len(sample_profile_data)), \n",
    "    y=sample_profile_data, \n",
    "    hue=colors, \n",
    "    style=colors,\n",
    "    palette=['blue', 'red'], \n",
    "    legend=False\n",
    ")\n",
    "\n",
    "##-- Configure axes\n",
    "plt.ylabel(\"Depth (cm)\")\n",
    "plt.xlabel(\"Position along tread (cm)\")\n",
    "plt.title(\"Wheel Tread Depth Measurements with Detected Flats\")\n",
    "\n",
    "##-- Show plot\n",
    "plt.show()"
   ]
  },
  {
   "cell_type": "markdown",
   "id": "0ccfd7e4-81dc-486a-be3e-2e992c91288c",
   "metadata": {},
   "source": [
    "### Caveats\n",
    "The above use-case is an oversimplified example and is far from all-encompassing. It is simplified for illustrative purposes only. For a real-world use case, the data is more complex and many more variables are considered. \n",
    "\n",
    "Recommended Practices M-107/M-208 provides specifications for various classes of carbon steel wheels used in locomotives and cars. \n",
    "\n",
    "The primary specifications include:\n",
    "- Size: The standard wheel types, tread, and flange contours, along with their respective dimensions and tolerances (illustrated in Figures B.8 through B.14). These figures provide detailed specifications for the wheel's diameter, tape size, flange thickness, and other critical dimensions.\n",
    "- Hardness: The Brinell Hardness Number (BHN) is used to measure the hardness of the wheel rim. There are minimum and maximum hardness values for each wheel class (provided in Table 10.1). For example, Class L wheels must have a minimum hardness of 255 BHN and a maximum hardness of 321 BHN.\n",
    "\n",
    "Additional specifications include:\n",
    "- Permissible Variations: The manual outlines permissible variations in wheel dimensions (Section 9) that are not explicitly covered by tolerances in the figures. These variations account for factors like inside diameter, rim thickness, hub wall thickness, rotundity, and bore diameter.\n",
    "- Additional Specifications: The manual also includes specifications for other aspects of the wheel's design and manufacturing, such as heat treatment requirements, shot peening, chemical composition, and ultrasonic inspection."
   ]
  },
  {
   "cell_type": "code",
   "execution_count": null,
   "id": "ec3ef191-6cd6-4608-be35-2055a01b88f1",
   "metadata": {},
   "outputs": [],
   "source": []
  }
 ],
 "metadata": {
  "kernelspec": {
   "display_name": "Python 3 (ipykernel)",
   "language": "python",
   "name": "python3"
  },
  "language_info": {
   "codemirror_mode": {
    "name": "ipython",
    "version": 3
   },
   "file_extension": ".py",
   "mimetype": "text/x-python",
   "name": "python",
   "nbconvert_exporter": "python",
   "pygments_lexer": "ipython3",
   "version": "3.9.12"
  }
 },
 "nbformat": 4,
 "nbformat_minor": 5
}
