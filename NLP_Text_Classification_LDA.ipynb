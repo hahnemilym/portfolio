{
 "cells": [
  {
   "cell_type": "markdown",
   "id": "96899d5b-c79b-450c-83fb-2056fb946973",
   "metadata": {
    "tags": []
   },
   "source": [
    "# ML Text Classification\n",
    "\n",
    "### Problem Statement\n",
    "\n",
    "\n",
    "### Data\n",
    "   * Dataset of product names (\"Query\" column) and the category label IDs (\"Class_Label\" column)\n",
    "\n",
    "### Applications \n",
    "   * Search and Customer Insights domains\n",
    "\n",
    "### Solution\n",
    "\n",
    "   * Built a model that returns a reasonable recall number (micro & macro) on a test dataset with multiple class labels\n",
    "   * An unseen test set was used to evaluate the model’s performance. That is not meant to be scoring function but instead an approach to calibrate the task.\n"
   ]
  },
  {
   "cell_type": "code",
   "execution_count": 1,
   "id": "9971175f-ea95-42c1-b559-5d418e8563c1",
   "metadata": {},
   "outputs": [],
   "source": [
    "import pandas as pd\n",
    "import zipfile\n",
    "import re\n",
    "import matplotlib.pyplot as plt\n",
    "import seaborn as sns\n",
    "from sklearn.decomposition import LatentDirichletAllocation\n",
    "from sklearn.feature_extraction.text import CountVectorizer\n",
    "from sklearn.feature_extraction.text import TfidfVectorizer\n",
    "from sklearn.model_selection import train_test_split\n",
    "from sklearn.ensemble import RandomForestClassifier\n",
    "from sklearn.metrics import classification_report\n",
    "from sklearn.model_selection import GridSearchCV\n",
    "from sklearn.model_selection import StratifiedKFold\n",
    "import numpy as np"
   ]
  },
  {
   "cell_type": "code",
   "execution_count": 2,
   "id": "e400aa64-01d5-439c-9668-422bc702ca39",
   "metadata": {},
   "outputs": [
    {
     "data": {
      "text/html": [
       "<div>\n",
       "<style scoped>\n",
       "    .dataframe tbody tr th:only-of-type {\n",
       "        vertical-align: middle;\n",
       "    }\n",
       "\n",
       "    .dataframe tbody tr th {\n",
       "        vertical-align: top;\n",
       "    }\n",
       "\n",
       "    .dataframe thead th {\n",
       "        text-align: right;\n",
       "    }\n",
       "</style>\n",
       "<table border=\"1\" class=\"dataframe\">\n",
       "  <thead>\n",
       "    <tr style=\"text-align: right;\">\n",
       "      <th></th>\n",
       "      <th>index</th>\n",
       "      <th>Class_Label</th>\n",
       "      <th>Query_Filtered</th>\n",
       "    </tr>\n",
       "  </thead>\n",
       "  <tbody>\n",
       "    <tr>\n",
       "      <th>0</th>\n",
       "      <td>2754172</td>\n",
       "      <td>101371589</td>\n",
       "      <td></td>\n",
       "    </tr>\n",
       "    <tr>\n",
       "      <th>1</th>\n",
       "      <td>3670779</td>\n",
       "      <td>101371589</td>\n",
       "      <td></td>\n",
       "    </tr>\n",
       "    <tr>\n",
       "      <th>2</th>\n",
       "      <td>2834048</td>\n",
       "      <td>101371589</td>\n",
       "      <td></td>\n",
       "    </tr>\n",
       "    <tr>\n",
       "      <th>3</th>\n",
       "      <td>3673809</td>\n",
       "      <td>101371589</td>\n",
       "      <td></td>\n",
       "    </tr>\n",
       "    <tr>\n",
       "      <th>4</th>\n",
       "      <td>4543176</td>\n",
       "      <td>101371589</td>\n",
       "      <td></td>\n",
       "    </tr>\n",
       "    <tr>\n",
       "      <th>5</th>\n",
       "      <td>5274746</td>\n",
       "      <td>101371589</td>\n",
       "      <td></td>\n",
       "    </tr>\n",
       "    <tr>\n",
       "      <th>6</th>\n",
       "      <td>1267291</td>\n",
       "      <td>101371589</td>\n",
       "      <td></td>\n",
       "    </tr>\n",
       "    <tr>\n",
       "      <th>7</th>\n",
       "      <td>1279518</td>\n",
       "      <td>101371589</td>\n",
       "      <td></td>\n",
       "    </tr>\n",
       "    <tr>\n",
       "      <th>8</th>\n",
       "      <td>3819408</td>\n",
       "      <td>101371589</td>\n",
       "      <td></td>\n",
       "    </tr>\n",
       "    <tr>\n",
       "      <th>9</th>\n",
       "      <td>3549328</td>\n",
       "      <td>101371589</td>\n",
       "      <td></td>\n",
       "    </tr>\n",
       "    <tr>\n",
       "      <th>10</th>\n",
       "      <td>5364841</td>\n",
       "      <td>101371589</td>\n",
       "      <td></td>\n",
       "    </tr>\n",
       "    <tr>\n",
       "      <th>11</th>\n",
       "      <td>1957072</td>\n",
       "      <td>101371589</td>\n",
       "      <td>sprocket</td>\n",
       "    </tr>\n",
       "    <tr>\n",
       "      <th>12</th>\n",
       "      <td>2209292</td>\n",
       "      <td>101371589</td>\n",
       "      <td>sprockets</td>\n",
       "    </tr>\n",
       "    <tr>\n",
       "      <th>13</th>\n",
       "      <td>2812859</td>\n",
       "      <td>101371589</td>\n",
       "      <td>hollow chain</td>\n",
       "    </tr>\n",
       "    <tr>\n",
       "      <th>14</th>\n",
       "      <td>4468207</td>\n",
       "      <td>101371589</td>\n",
       "      <td>sprocket</td>\n",
       "    </tr>\n",
       "    <tr>\n",
       "      <th>15</th>\n",
       "      <td>5364842</td>\n",
       "      <td>101371589</td>\n",
       "      <td>sprocket</td>\n",
       "    </tr>\n",
       "    <tr>\n",
       "      <th>16</th>\n",
       "      <td>3483574</td>\n",
       "      <td>101371589</td>\n",
       "      <td>sprockets</td>\n",
       "    </tr>\n",
       "    <tr>\n",
       "      <th>17</th>\n",
       "      <td>2723476</td>\n",
       "      <td>101371589</td>\n",
       "      <td>hrb mpb hub</td>\n",
       "    </tr>\n",
       "    <tr>\n",
       "      <th>18</th>\n",
       "      <td>5815290</td>\n",
       "      <td>101371589</td>\n",
       "      <td>sprocket bearing</td>\n",
       "    </tr>\n",
       "    <tr>\n",
       "      <th>19</th>\n",
       "      <td>3892333</td>\n",
       "      <td>101371589</td>\n",
       "      <td>bore chain sproket</td>\n",
       "    </tr>\n",
       "  </tbody>\n",
       "</table>\n",
       "</div>"
      ],
      "text/plain": [
       "      index  Class_Label                 Query_Filtered\n",
       "0   2754172    101371589                               \n",
       "1   3670779    101371589                               \n",
       "2   2834048    101371589                               \n",
       "3   3673809    101371589                               \n",
       "4   4543176    101371589                               \n",
       "5   5274746    101371589                               \n",
       "6   1267291    101371589                               \n",
       "7   1279518    101371589                               \n",
       "8   3819408    101371589                               \n",
       "9   3549328    101371589                               \n",
       "10  5364841    101371589                               \n",
       "11  1957072    101371589                       sprocket\n",
       "12  2209292    101371589                      sprockets\n",
       "13  2812859    101371589                   hollow chain\n",
       "14  4468207    101371589                       sprocket\n",
       "15  5364842    101371589                       sprocket\n",
       "16  3483574    101371589                      sprockets\n",
       "17  2723476    101371589                   hrb mpb hub \n",
       "18  5815290    101371589               sprocket bearing\n",
       "19  3892333    101371589             bore chain sproket"
      ]
     },
     "execution_count": 2,
     "metadata": {},
     "output_type": "execute_result"
    }
   ],
   "source": [
    "##-- Unzip the file\n",
    "with zipfile.ZipFile('data_train.tsv.zip', 'r') as z:\n",
    "    z.extractall()\n",
    "\n",
    "##-- Load data\n",
    "df = pd.read_csv('data_train.tsv', sep='\\t',names=[\"Query\",\"Class_Label\"]).dropna()\n",
    "\n",
    "##-- Filter non-alphanumeric characters, numbers, symbols\n",
    "df[\"Query_Filtered\"] = df[\"Query\"].apply(lambda x: re.sub(r'[^a-zA-Z]', ' ', str(x)))\n",
    "\n",
    "##-- If all rows start with 'ID_', then strip 'ID_' from Class_Label\n",
    "if all(df['Class_Label'].str.startswith('ID_')):\n",
    "    df['Class_Label'] = df['Class_Label'].str[3:]\n",
    "    \n",
    "df.drop('Query', axis=1, inplace=True)\n",
    "\n",
    "df = df.sort_values([\"Class_Label\",\"Query_Filtered\"]).reset_index()\n",
    "df[\"Query_Filtered\"] = df[\"Query_Filtered\"].astype(str)\n",
    "df[\"Class_Label\"] = df[\"Class_Label\"].astype(int)\n",
    "\n",
    "df.head(20)"
   ]
  },
  {
   "cell_type": "code",
   "execution_count": 3,
   "id": "30347b6f-a403-4254-a42e-46abe551db4d",
   "metadata": {},
   "outputs": [
    {
     "name": "stdout",
     "output_type": "stream",
     "text": [
      "\n",
      "NaN values in each column:\n",
      " index             0\n",
      "Class_Label       0\n",
      "Query_Filtered    0\n",
      "dtype: int64\n",
      "\n",
      "Number of duplicate rows: 0\n",
      "\n",
      "Number of unusually long queries: 7799\n"
     ]
    }
   ],
   "source": [
    "def data_quality_check(df):\n",
    "    ##-- Check for NaN values\n",
    "    print(\"\\nNaN values in each column:\\n\", df.isna().sum())\n",
    "    \n",
    "    ##-- Check for duplicate rows\n",
    "    print(f\"\\nNumber of duplicate rows: {df.duplicated().sum()}\")\n",
    "    \n",
    "    ##-- Check for queries with unusually high length\n",
    "    unusual_length_queries = df[df['Query_Filtered'].str.len() > 100]\n",
    "    print(f\"\\nNumber of unusually long queries: {len(unusual_length_queries)}\")\n",
    "    return\n",
    "\n",
    "data_quality_check(df)"
   ]
  },
  {
   "cell_type": "code",
   "execution_count": 4,
   "id": "6bca2f97-32c3-4628-9835-cd3cad17a79a",
   "metadata": {},
   "outputs": [
    {
     "name": "stdout",
     "output_type": "stream",
     "text": [
      "new labels: 20\n",
      "old labels: 485\n"
     ]
    }
   ],
   "source": [
    "df['Merged_Label'] = pd.qcut(df['Class_Label'], q=[x for x in np.arange(0, 1.05, 0.05)],\n",
    "                                 labels=False, precision=3, duplicates='drop')\n",
    "print(\"new labels: %s\\nold labels: %s\" % (len(df['Merged_Label'].unique()),len(df['Class_Label'].unique())) )"
   ]
  },
  {
   "cell_type": "code",
   "execution_count": 5,
   "id": "0e36b875-9ed0-4af0-8f2f-d723867c66e7",
   "metadata": {},
   "outputs": [],
   "source": [
    "##-- Split Data\n",
    "X,y = df['Query_Filtered'],df['Merged_Label']\n",
    "X_train, X_test, y_train, y_test = train_test_split(X, y, test_size=0.2, random_state=42)"
   ]
  },
  {
   "cell_type": "code",
   "execution_count": 6,
   "id": "49173e42-a492-4f06-8e9b-8668455bb3c1",
   "metadata": {},
   "outputs": [],
   "source": [
    "##-- Vectorize train and test data\n",
    "count_vectorizer = CountVectorizer(max_df=0.95, min_df=2, stop_words='english')"
   ]
  },
  {
   "cell_type": "code",
   "execution_count": 7,
   "id": "b0aa85bd-db64-4b63-bdb6-c39df4bface3",
   "metadata": {},
   "outputs": [],
   "source": [
    "X_train_vec = count_vectorizer.fit_transform(X_train)\n",
    "X_test_vec = count_vectorizer.transform(X_test)"
   ]
  },
  {
   "cell_type": "code",
   "execution_count": 8,
   "id": "afe0f924-2971-4bc9-8ec0-83c9a499bf4e",
   "metadata": {},
   "outputs": [],
   "source": [
    "##-- Initialize LDA Model\n",
    "lda = LatentDirichletAllocation(n_components=10, random_state=42)"
   ]
  },
  {
   "cell_type": "code",
   "execution_count": 9,
   "id": "92f38ad1-b3e5-4b4b-a9ef-575eb2b8bb23",
   "metadata": {},
   "outputs": [
    {
     "data": {
      "text/plain": [
       "LatentDirichletAllocation(random_state=42)"
      ]
     },
     "execution_count": 9,
     "metadata": {},
     "output_type": "execute_result"
    }
   ],
   "source": [
    "##-- Fit LDA Model on train data\n",
    "lda.fit(X_train_vec)"
   ]
  },
  {
   "cell_type": "code",
   "execution_count": 10,
   "id": "63135f90-b15d-4779-95a5-295ba9a22d13",
   "metadata": {},
   "outputs": [
    {
     "name": "stdout",
     "output_type": "stream",
     "text": [
      "Topic #1\n",
      "inch fan gas wheel metal blade oil portable air exhaust\n",
      "Topic #2\n",
      "light safety led tape mm bulb lamp bar glasses heater\n",
      "Topic #3\n",
      "air filter battery plastic spray gal saw vacuum chain gallon\n",
      "Topic #4\n",
      "water screw head gloves paint flat cap resistant steel black\n",
      "Topic #5\n",
      "valve switch box pressure door ball lock cover gauge control\n",
      "Topic #6\n",
      "pipe hose steel wire stainless cable pvc brass inch adapter\n",
      "Topic #7\n",
      "nut square drain work breaker faucet toilet magnetic handle floor\n",
      "Topic #8\n",
      "wall motor hp ft amp cord mount lb plug rubber\n",
      "Topic #9\n",
      "kit drill set bit tool wrench socket drive belt impact\n",
      "Topic #10\n",
      "pump hand ring series vac glass adhesive dispenser fuse wheels\n"
     ]
    }
   ],
   "source": [
    "##-- Review sample of features\n",
    "feature_names = count_vectorizer.get_feature_names_out()\n",
    "for topic_idx, topic in enumerate(lda.components_):\n",
    "    print(f\"Topic #{topic_idx+1}\")\n",
    "    print(\" \".join([feature_names[i] for i in topic.argsort()[:-11:-1]]))"
   ]
  },
  {
   "cell_type": "code",
   "execution_count": 11,
   "id": "ee0152a1-c4d5-4ee1-af83-ac602b884a45",
   "metadata": {
    "scrolled": true
   },
   "outputs": [
    {
     "name": "stdout",
     "output_type": "stream",
     "text": [
      "Log Likelihood:  -120398023.19584143\n",
      "Perplexity:  3161.60032491207\n"
     ]
    }
   ],
   "source": [
    "##-- Log Likelihood --> Higher is better\n",
    "print(\"Log Likelihood: \", lda.score(X_train_vec))\n",
    "##-- Perplexity --> Lower is better. Perplexity is exp(-1. * log-likelihood per word)\n",
    "print(\"Perplexity: \", lda.perplexity(X_train_vec))"
   ]
  },
  {
   "cell_type": "code",
   "execution_count": 12,
   "id": "282d248b-c074-4167-b4ce-0856df304186",
   "metadata": {},
   "outputs": [],
   "source": [
    "##-- Transform and fit topics for train and test data\n",
    "X_train_topics = lda.fit_transform(X_train_vec)"
   ]
  },
  {
   "cell_type": "code",
   "execution_count": 13,
   "id": "fba0ac27-ed1d-485b-ad71-f7a12165f635",
   "metadata": {},
   "outputs": [],
   "source": [
    "X_test_topics = lda.transform(X_test_vec) "
   ]
  },
  {
   "cell_type": "code",
   "execution_count": 14,
   "id": "e3be128f-467c-4c5b-9bfb-1d4004a00929",
   "metadata": {},
   "outputs": [],
   "source": [
    "##-- Fit RFC classifier on the topic-space representation\n",
    "rfc = RandomForestClassifier(n_estimators=100, max_depth=10, min_samples_split=5, min_samples_leaf=1, random_state=42)\n",
    "\n",
    "# Define the parameter grid\n",
    "param_grid = {\n",
    "    'n_estimators': [50, 100, 200],\n",
    "    'max_depth': [10, 20, None],\n",
    "    'min_samples_split': [2, 5, 10],\n",
    "    'min_samples_leaf': [1, 2, 4]\n",
    "}"
   ]
  },
  {
   "cell_type": "code",
   "execution_count": 15,
   "id": "ed35893a-865e-4d55-a39e-02558b9f42f3",
   "metadata": {},
   "outputs": [],
   "source": [
    "##-- Instantiate grid search\n",
    "grid_search = GridSearchCV(estimator=rfc, param_grid=param_grid, cv=StratifiedKFold(n_splits=5), n_jobs=-1, verbose=2, scoring='accuracy')"
   ]
  },
  {
   "cell_type": "code",
   "execution_count": 1,
   "id": "63670780-6dd1-4c11-9cfc-c2f874c61a75",
   "metadata": {},
   "outputs": [],
   "source": [
    "##-- Cross-validate: Fit grid search to data\n",
    "grid_search.fit(X_train_topics, y_train)"
   ]
  },
  {
   "cell_type": "code",
   "execution_count": null,
   "id": "a4c46ab5-faf5-40e5-9917-a02984117a7a",
   "metadata": {},
   "outputs": [],
   "source": [
    "##-- Determine optimal parameters\n",
    "best_gs_params = grid_search.best_params_\n",
    "print(f\"Best parameters: {best_gs_params}\")"
   ]
  },
  {
   "cell_type": "code",
   "execution_count": null,
   "id": "41d5d593-f347-4289-8c4d-3884e18a8b8b",
   "metadata": {},
   "outputs": [],
   "source": [
    "##-- Determine best estimator\n",
    "best_gs_estim = grid_search.best_estimator_\n",
    "print(f\"Best estimator: {best_gs_estim}\")"
   ]
  },
  {
   "cell_type": "code",
   "execution_count": null,
   "id": "4b2794c5-720d-40a7-9a6a-943816009320",
   "metadata": {},
   "outputs": [],
   "source": [
    "##-- Classification metrics\n",
    "y_pred_gs = best_gs_estim.predict(X_test_topics)\n",
    "print(classification_report(y_test, y_pred_gs))"
   ]
  },
  {
   "cell_type": "code",
   "execution_count": null,
   "id": "d101924a-b112-43b0-be9d-b5e11948e3ed",
   "metadata": {},
   "outputs": [],
   "source": [
    "##-- Visualization --> \n",
    "# import pyLDAvis\n",
    "# import pyLDAvis.lda_model\n",
    "# pyLDAvis.enable_notebook()\n",
    "\n",
    "# pyLDAvis.lda_model.prepare(lda, X_train_vec, count_vectorizer)"
   ]
  },
  {
   "cell_type": "markdown",
   "id": "f680b275-8f13-4e4a-963a-c488ced1e3bc",
   "metadata": {
    "tags": []
   },
   "source": [
    "## Optional"
   ]
  },
  {
   "cell_type": "code",
   "execution_count": null,
   "id": "13969a92-d2ef-4356-a63f-56af8ed45a40",
   "metadata": {},
   "outputs": [],
   "source": [
    "# def visualize_sublabels(df):\n",
    "#     ##-- Assume df already has sub-label columns as you provided\n",
    "#     sublabel_cols = [f'SubLabel_{i}' for i in range(1, 10)]\n",
    "#     ##-- sublabel_cols = df.columns.where(df.columns.str.startswith(\"SubLabel\")).dropna()\n",
    "\n",
    "#     ##-- Melt DataFrame to make it suitable for seaborn\n",
    "#     melted_df = pd.melt(df, value_vars=sublabel_cols, var_name='SubLabel', value_name='Value')\n",
    "\n",
    "#     ##-- Create countplot\n",
    "#     plt.figure(figsize=(15, 8))\n",
    "#     sns.countplot(data=melted_df, x='Value', hue='SubLabel')\n",
    "#     plt.title('SubLabel Distributions')\n",
    "#     plt.xlabel('Value')\n",
    "#     plt.ylabel('Count')\n",
    "#     plt.show()\n",
    "#     return\n",
    "\n",
    "# visualize_sublabels(df)"
   ]
  }
 ],
 "metadata": {
  "kernelspec": {
   "display_name": "Python 3 (ipykernel)",
   "language": "python",
   "name": "python3"
  },
  "language_info": {
   "codemirror_mode": {
    "name": "ipython",
    "version": 3
   },
   "file_extension": ".py",
   "mimetype": "text/x-python",
   "name": "python",
   "nbconvert_exporter": "python",
   "pygments_lexer": "ipython3",
   "version": "3.9.12"
  }
 },
 "nbformat": 4,
 "nbformat_minor": 5
}
