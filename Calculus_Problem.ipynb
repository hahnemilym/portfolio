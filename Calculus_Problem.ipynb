{
 "cells": [
  {
   "cell_type": "markdown",
   "id": "616ab1e3",
   "metadata": {},
   "source": [
    "# Calculus Sample Problem I"
   ]
  },
  {
   "cell_type": "markdown",
   "id": "2d330a58-56bc-48e5-871c-e173d9fdbe4e",
   "metadata": {},
   "source": [
    "<u>Problem</u>:\n",
    "Visualize the approximation of the integral of the sine function using left and right endpoint methods"
   ]
  },
  {
   "cell_type": "markdown",
   "id": "c47122bb-b684-4d6c-8031-b071827d5e1b",
   "metadata": {},
   "source": [
    "1. Import necessary libraries for data manipulation and plotting.\n",
    "2. Define constants like 5, interval, and components for the range of integration and number of subintervals.\n",
    "3. Create two lists, R_subintervals and L_subintervals, representing the right and left endpoints for each subinterval.\n",
    "4. Define a function endpoints that calculates the endpoints, sine values at those points, and labels them as either \"L\" (left) or \"R\" (right).\n",
    "5. Call this function to generate data frames (df_L and df_R) for left and right endpoints.\n",
    "6. Concatenate these data frames into one (df).\n",
    "7. Set up a Matplotlib plot (fig, ax = plt.subplots()).\n",
    "8. Define a function change_width to adjust the width of the bars in the plot.\n",
    "9. Plot the sine function using Seaborn's scatterplot and barplot functions.\n",
    "10. Plot the actual sine curve using Seaborn's lineplot.\n",
    "11. Finally, show the plot."
   ]
  },
  {
   "cell_type": "markdown",
   "id": "166d262b-a3e2-4d29-9d89-78e1a7ca5bd5",
   "metadata": {},
   "source": [
    "The plot displays:\n",
    "\n",
    "- Points for the left and right endpoints\n",
    "- Bars at those points to approximate the area under the curve\n",
    "- The actual sine curve"
   ]
  },
  {
   "cell_type": "code",
   "execution_count": 326,
   "id": "f5ec239d",
   "metadata": {},
   "outputs": [
    {
     "data": {
      "image/png": "[encoded data removed]",
      "text/plain": [
       "<Figure size 432x288 with 1 Axes>"
      ]
     },
     "metadata": {
      "needs_background": "light"
     },
     "output_type": "display_data"
    }
   ],
   "source": [
    "# Import libraries\n",
    "import matplotlib.pyplot as plt\n",
    "import numpy as np\n",
    "import seaborn as sns\n",
    "import pandas as pd\n",
    "\n",
    "m=5\n",
    "interval = [0, m] ## range\n",
    "components=4\n",
    "\n",
    "R_subintervals, L_subintervals = [1,2,3,4,5], [0,1,2,3,4] ## 5 equal components\n",
    "delta_x = m/components\n",
    "\n",
    "def endpoints(subintervals, end, components=4, m=5):\n",
    "    endpoints_d={}\n",
    "    delta_x = m/components ## width of bars\n",
    "    for n in subintervals:\n",
    "        x = (delta_x)*n\n",
    "        endpoints_d[n] = {\"n\":n,\"x\":x,\"sinx\":np.sin(x),\"end\":end}\n",
    "    return endpoints_d\n",
    "\n",
    "##-- Left & Right Endpoints\n",
    "\n",
    "L_endpoints = endpoints(L_subintervals,\"L\")\n",
    "R_endpoints = endpoints(R_subintervals,\"R\")\n",
    "\n",
    "df_L = pd.DataFrame(L_endpoints).T\n",
    "df_R = pd.DataFrame(R_endpoints).T\n",
    "df = pd.concat([df_L,df_R],join=\"outer\")\n",
    "\n",
    "df[\"sinx\"] = df[\"sinx\"].astype(np.float64)\n",
    "df[\"x\"] = df[\"x\"].astype(np.float64)\n",
    "\n",
    "fig, ax = plt.subplots()\n",
    "\n",
    "def change_width(ax, new_value):\n",
    "    for patch in ax.patches:\n",
    "        current_width = patch.get_width()\n",
    "        diff = current_width - new_value\n",
    "        \n",
    "        # we change the bar width\n",
    "        patch.set_width(new_value)\n",
    "\n",
    "        # we recenter the bar\n",
    "        patch.set_x(patch.get_x() + diff * .5)\n",
    "\n",
    "change_width(ax, .05)\n",
    "\n",
    "ax.set(xticks=(-0.1,-1))\n",
    "\n",
    "sns.scatterplot(x=\"x\",y=\"sinx\",data=df,ax=ax)\n",
    "sns.barplot(x=\"x\",y=\"sinx\",data=df,ax=ax)\n",
    "\n",
    "x2 = np.arange(0.01,6.25,0.01)\n",
    "y2 = np.sin(x2)\n",
    "sns.lineplot(x=x2,y=y2,ax=ax)\n",
    "\n",
    "plt.show()"
   ]
  }
 ],
 "metadata": {
  "kernelspec": {
   "display_name": "Python 3 (ipykernel)",
   "language": "python",
   "name": "python3"
  },
  "language_info": {
   "codemirror_mode": {
    "name": "ipython",
    "version": 3
   },
   "file_extension": ".py",
   "mimetype": "text/x-python",
   "name": "python",
   "nbconvert_exporter": "python",
   "pygments_lexer": "ipython3",
   "version": "3.9.12"
  }
 },
 "nbformat": 4,
 "nbformat_minor": 5
}
