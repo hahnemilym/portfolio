{
 "cells": [
  {
   "cell_type": "markdown",
   "id": "2e6a1607-9ce5-41aa-b759-3568e3d4eba6",
   "metadata": {},
   "source": [
    "## MLOps Pipeline Template"
   ]
  },
  {
   "cell_type": "markdown",
   "id": "4a7685c0-b7e8-4a18-a3c5-3783f1c61e99",
   "metadata": {},
   "source": [
    "Overview, code templates, and model options from various stages of an end-to-end, full-stack MLOps pipeline "
   ]
  },
  {
   "cell_type": "markdown",
   "id": "88a149e6-46fa-4411-8951-df8af4b63079",
   "metadata": {},
   "source": [
    "***"
   ]
  },
  {
   "cell_type": "markdown",
   "id": "83d08872-a9dc-426e-8e08-a511fbace54f",
   "metadata": {},
   "source": [
    "### Create Directory Structure"
   ]
  },
  {
   "cell_type": "markdown",
   "id": "54e18880-28d7-4f48-ae51-80c42e18b95f",
   "metadata": {},
   "source": [
    "```\n",
    "- mlops_pipeline/\n",
    "  - cdk/\n",
    "    - app.py\n",
    "    - stack.py\n",
    "  - model/\n",
    "    - train.py (PyTorch code)\n",
    "    - train_tf.py (TensorFlow code)\n",
    "  - docker/\n",
    "    - Dockerfile\n",
    "  - .gitlab-ci.yml\n",
    "\n",
    "```\n",
    "\n",
    "***Bash script to create the directory structure:***\n",
    "\n",
    "```\n",
    "#!/bin/bash\n",
    "\n",
    "# Create the main directory\n",
    "mkdir -p mlops_pipeline\n",
    "\n",
    "# Create subdirectories for CDK, model, docker, and GitLab CI/CD\n",
    "mkdir -p mlops_pipeline/cdk\n",
    "mkdir -p mlops_pipeline/model\n",
    "mkdir -p mlops_pipeline/docker\n",
    "\n",
    "# Create the necessary files\n",
    "touch mlops_pipeline/cdk/app.py\n",
    "touch mlops_pipeline/cdk/stack.py\n",
    "touch mlops_pipeline/model/train.py\n",
    "touch mlops_pipeline/model/train_tf.py\n",
    "touch mlops_pipeline/docker/Dockerfile\n",
    "touch mlops_pipeline/.gitlab-ci.yml\n",
    "\n",
    "echo \"Directory structure created.\"\n",
    "\n",
    "```\n",
    "\n",
    "***Save this content in a file, make it executable, and run it:***\n",
    "\n",
    "\n",
    "```\n",
    "chmod +x create_directory_structure.sh\n",
    "./create_directory_structure.sh\n",
    "\n",
    "```"
   ]
  },
  {
   "cell_type": "markdown",
   "id": "c1f2b574-6a97-49e6-a92f-32e5bd06e5ca",
   "metadata": {},
   "source": [
    "***"
   ]
  },
  {
   "cell_type": "markdown",
   "id": "3eb88ba8-ddad-4e57-b325-1cd7e854c25a",
   "metadata": {},
   "source": [
    "### AWS CDK - Define CloudFormation Resources"
   ]
  },
  {
   "cell_type": "markdown",
   "id": "f1fd7df9-8d54-4ce7-9a2a-e0fdc99ae301",
   "metadata": {},
   "source": [
    "`cdk/app.py`"
   ]
  },
  {
   "cell_type": "code",
   "execution_count": null,
   "id": "437a1582-360a-4960-b301-cd7dcd80aa0b",
   "metadata": {},
   "outputs": [],
   "source": [
    "from aws_cdk import core\n",
    "from stack import MLOpsStack\n",
    "\n",
    "app = core.App()\n",
    "MLOpsStack(app, \"MLOpsStack\")"
   ]
  },
  {
   "cell_type": "markdown",
   "id": "d2361371-f2d5-4b46-9271-3e7c850eb1dd",
   "metadata": {},
   "source": [
    "`cdk/stack.py`\n",
    "\n",
    "***Run*** `cdk deploy` ***to deploy the stack***"
   ]
  },
  {
   "cell_type": "code",
   "execution_count": null,
   "id": "803357c7-9156-4bcb-993b-3ddfe0c5812a",
   "metadata": {},
   "outputs": [],
   "source": [
    "from aws_cdk import (\n",
    "    aws_s3 as s3,\n",
    "    aws_sagemaker as sagemaker,\n",
    "    core,\n",
    "    ##-- import other required services\n",
    ")\n",
    "\n",
    "class MLOpsStack(core.Stack):\n",
    "    def __init__(self, scope: core.Construct, id: str, **kwargs) -> None:\n",
    "        super().__init__(scope, id, **kwargs)\n",
    "\n",
    "        ##-- Create an S3 bucket\n",
    "        data_bucket = s3.Bucket(self, \"DataBucket\")\n",
    "        ##-- Add other resources like SageMaker, Lambda, etc."
   ]
  },
  {
   "cell_type": "markdown",
   "id": "ac5cc8de-7f1e-41ea-a67e-fc3b16499100",
   "metadata": {},
   "source": [
    "### Random Forest Model"
   ]
  },
  {
   "cell_type": "markdown",
   "id": "84ad8110-6f29-46db-a432-2cf9c0a3a66f",
   "metadata": {},
   "source": [
    "##### PyTorch Model"
   ]
  },
  {
   "cell_type": "code",
   "execution_count": null,
   "id": "63aea0cf-0da6-434f-87b4-15e6a4f25a6e",
   "metadata": {},
   "outputs": [],
   "source": [
    "from sklearn.datasets import load_iris\n",
    "from sklearn.ensemble import RandomForestClassifier\n",
    "import torch\n",
    "\n",
    "X, y = load_iris(return_X_y=True)\n",
    "clf = RandomForestClassifier()\n",
    "clf.fit(X, y)\n",
    "\n",
    "# Convert model to PyTorch\n",
    "torch_model = torch.from_numpy(clf.feature_importances_)"
   ]
  },
  {
   "cell_type": "markdown",
   "id": "c5e73c0e-61bd-4792-b2de-9e2723b93652",
   "metadata": {},
   "source": [
    "##### TensorFlow Model"
   ]
  },
  {
   "cell_type": "code",
   "execution_count": null,
   "id": "545164bc-f4fd-4586-a13d-5c4f5b1fbc95",
   "metadata": {},
   "outputs": [],
   "source": [
    "import tensorflow as tf\n",
    "\n",
    "# Assuming a pre-trained RandomForest Classifier model in 'clf'\n",
    "feature_columns = [tf.feature_column.numeric_column(key=str(i)) for i in range(X.shape[1])]\n",
    "tf_estimator = tf.estimator.BoostedTreesClassifier(feature_columns, n_batches_per_layer=1)"
   ]
  },
  {
   "cell_type": "markdown",
   "id": "6e70014b-07ae-41e1-a858-7763d17e2bbe",
   "metadata": {},
   "source": [
    "##### Scalable Model w/ PySpark and/or Scala"
   ]
  },
  {
   "cell_type": "code",
   "execution_count": null,
   "id": "f002f5f6-4f1c-4c4b-94b9-31a0b332217e",
   "metadata": {},
   "outputs": [],
   "source": [
    "import org.apache.spark.ml.classification.RandomForestClassifier\n",
    "\n",
    "val rf = new RandomForestClassifier()\n",
    "  .setLabelCol(\"label\")\n",
    "  .setFeaturesCol(\"features\")\n",
    "\n",
    "// train the model\n",
    "val model = rf.fit(trainingData)"
   ]
  },
  {
   "cell_type": "markdown",
   "id": "0f86cb08-0048-4528-abe2-3b3096f4b4b6",
   "metadata": {
    "tags": []
   },
   "source": [
    "### Deploy Model "
   ]
  },
  {
   "cell_type": "markdown",
   "id": "60a05212-a031-4052-82e3-747cbb266a6c",
   "metadata": {},
   "source": [
    "##### SageMaker (Python SDK)"
   ]
  },
  {
   "cell_type": "code",
   "execution_count": 2,
   "id": "6e3c6353-05a9-4af1-b7b2-36a2c6ff1e08",
   "metadata": {},
   "outputs": [],
   "source": [
    "from sagemaker.pytorch import PyTorchModel\n",
    "from sagemaker import get_execution_role\n",
    "\n",
    "role = get_execution_role()\n",
    "\n",
    "pytorch_model = PyTorchModel(model_data='s3://path/to/model.tar.gz', role=role, framework_version='1.5.0', entry_point='inference.py')\n",
    "\n",
    "predictor = pytorch_model.deploy(instance_type='ml.m4.xlarge', initial_instance_count=1)"
   ]
  },
  {
   "cell_type": "markdown",
   "id": "ef415bed-d8d3-4d23-8bce-42fc6a16178b",
   "metadata": {},
   "source": [
    "##### SageMaker (Boto3)"
   ]
  },
  {
   "cell_type": "code",
   "execution_count": null,
   "id": "161df61a-f4cb-4732-87b5-1b2c7ba71874",
   "metadata": {},
   "outputs": [],
   "source": [
    "import boto3\n",
    "\n",
    "sagemaker = boto3.client('sagemaker')\n",
    "\n",
    "model_url = \"s3://my-bucket/model.tar.gz\"\n",
    "\n",
    "response = sagemaker.create_model(\n",
    "    ModelName='my-random-forest-model',\n",
    "    PrimaryContainer={\n",
    "        'Image': 'your-docker-image-url',\n",
    "        'ModelDataUrl': model_url\n",
    "    },\n",
    "    ExecutionRoleArn='your-iam-role-arn'\n",
    ")\n",
    "\n",
    "##-- Code for endpoint creation, model deployment"
   ]
  },
  {
   "cell_type": "markdown",
   "id": "1f147e99-a106-42c1-8a06-b69780310b4c",
   "metadata": {},
   "source": [
    "### AWS SDK for Python (Boto3) - Create S3 Bucket"
   ]
  },
  {
   "cell_type": "code",
   "execution_count": null,
   "id": "a98144b7-24cd-44ad-a376-c29197b814d8",
   "metadata": {},
   "outputs": [],
   "source": [
    "import boto3\n",
    "\n",
    "s3 = boto3.client('s3')\n",
    "s3.create_bucket(Bucket='my-data-bucket')"
   ]
  },
  {
   "cell_type": "markdown",
   "id": "7e503a2d-b305-4a43-9e75-4a9bb90c2854",
   "metadata": {},
   "source": [
    "***"
   ]
  },
  {
   "cell_type": "markdown",
   "id": "7e822b94-0b16-4a07-99f4-66121ef2ea46",
   "metadata": {},
   "source": [
    "### Productionalize with Docker\n",
    "`docker/Dockerfile`\n",
    "\n",
    "`dockerfile`"
   ]
  },
  {
   "cell_type": "markdown",
   "id": "d99894e0-1155-451e-a120-ad0bebe80bd6",
   "metadata": {},
   "source": [
    "```\n",
    "# Use an official PyTorch/TensorFlow runtime as a parent image\n",
    "FROM pytorch/pytorch\n",
    "\n",
    "# Set the working directory\n",
    "WORKDIR /app\n",
    "\n",
    "# Copy the current directory contents\n",
    "COPY . /app\n",
    "\n",
    "# Install any needed packages\n",
    "RUN pip install -r requirements.txt\n",
    "\n",
    "# Run train.py when the container launches\n",
    "CMD [\"python\", \"train.py\"]\n",
    "```"
   ]
  },
  {
   "cell_type": "markdown",
   "id": "6927ee5d-ad19-4a9f-8ed4-8b5b92fd7e02",
   "metadata": {},
   "source": [
    "### CI/CD & Version Control with GitLab\n",
    "`.gitlab-ci.yml`\n",
    "\n",
    "`yml`"
   ]
  },
  {
   "cell_type": "markdown",
   "id": "37a06f3a-6e99-41bd-a53a-b84e3c54a4a4",
   "metadata": {},
   "source": [
    "```\n",
    "stages:\n",
    "  - build\n",
    "  - deploy\n",
    "\n",
    "build:\n",
    "  script:\n",
    "    - docker build -t my-model .\n",
    "    - docker push my-model\n",
    "\n",
    "deploy:\n",
    "  script:\n",
    "    - aws s3 cp model.tar.gz s3://my-bucket/\n",
    "    - aws sagemaker create-model --model-name \"my-model\" ...\n",
    "```"
   ]
  },
  {
   "cell_type": "markdown",
   "id": "63b083df-e958-44d5-ad32-170aa27e5453",
   "metadata": {
    "tags": []
   },
   "source": [
    "### Initialize New Repo for Pipeline\n",
    "`bash`"
   ]
  },
  {
   "cell_type": "markdown",
   "id": "a0874a80-d2a4-43fd-a363-51161e442d98",
   "metadata": {},
   "source": [
    "```\n",
    "git init\n",
    "git add .\n",
    "git commit -m \"Initial commit\"\n",
    "git remote add origin [GitLab Repo URL]\n",
    "git push -u origin master\n",
    "```"
   ]
  },
  {
   "cell_type": "code",
   "execution_count": null,
   "id": "d2da8020-e472-4f5c-b54e-62ee0e49cd14",
   "metadata": {},
   "outputs": [],
   "source": []
  }
 ],
 "metadata": {
  "kernelspec": {
   "display_name": "Python 3 (ipykernel)",
   "language": "python",
   "name": "python3"
  },
  "language_info": {
   "codemirror_mode": {
    "name": "ipython",
    "version": 3
   },
   "file_extension": ".py",
   "mimetype": "text/x-python",
   "name": "python",
   "nbconvert_exporter": "python",
   "pygments_lexer": "ipython3",
   "version": "3.9.12"
  }
 },
 "nbformat": 4,
 "nbformat_minor": 5
}
