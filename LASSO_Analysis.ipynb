{
 "cells": [
  {
   "cell_type": "markdown",
   "metadata": {},
   "source": [
    "## Intrinsic Neuromodulation of Cognitive Affect (INCA)"
   ]
  },
  {
   "cell_type": "markdown",
   "metadata": {},
   "source": [
    "***"
   ]
  },
  {
   "cell_type": "markdown",
   "metadata": {},
   "source": [
    "### Brain States <i> vs </i> Psychological Variables \n",
    "\n",
    "* _This notebook uses brain data from the the Intrinsic Neuromodulation (IN) task/experiment to predict behavioral characteristics using LASSO_\n",
    "\n",
    "* <b>Volitional Recall</b> (VR) [Valence, Arousal] <i> <u>vs</u> </i> <b>Psychological Variables</b> [DERS, CTQ, ...]"
   ]
  },
  {
   "cell_type": "markdown",
   "metadata": {},
   "source": [
    "<i> Bush, K.A. et al. Common Functional Brain States Encode both Perceived Emotion and the Psychophysiological Response to Affective Stimuli. Sci Rep 8, 15444 (2018). https://doi.org/10.1038/s41598-018-33621-6</i>"
   ]
  },
  {
   "cell_type": "markdown",
   "metadata": {},
   "source": [
    "***"
   ]
  },
  {
   "cell_type": "markdown",
   "metadata": {},
   "source": [
    "### Optimization Objective"
   ]
  },
  {
   "cell_type": "markdown",
   "metadata": {},
   "source": [
    "$ ( \\; \\frac{1}{2n_{samples}} \\;) \\; ||\\;y - X\\beta\\;||^2_2 + \\alpha\\;||\\; \\beta \\;||_1 $"
   ]
  },
  {
   "cell_type": "markdown",
   "metadata": {},
   "source": [
    "### Optimization Objective Variables"
   ]
  },
  {
   "cell_type": "markdown",
   "metadata": {},
   "source": [
    "| Variable | Description |\n",
    "|:------|:-----------|\n",
    "| $ α ≥ 0 $ | Regularization parameter: Modulates level of shrinkage | \n",
    "| $ β $ | LASSO estimator: Regression coefficients |"
   ]
  },
  {
   "cell_type": "markdown",
   "metadata": {},
   "source": [
    "***"
   ]
  },
  {
   "cell_type": "markdown",
   "metadata": {},
   "source": [
    "### Import Python libraries"
   ]
  },
  {
   "cell_type": "code",
   "execution_count": null,
   "metadata": {},
   "outputs": [],
   "source": [
    "%matplotlib inline \n",
    "import pandas as pd \n",
    "import numpy as np \n",
    "import matplotlib.pyplot as plt \n",
    "from scipy import stats\n",
    "from scipy.stats import zscore\n",
    "from sklearn.preprocessing import scale \n",
    "from sklearn.metrics import r2_score\n",
    "from sklearn.linear_model import Lasso, LassoCV \n",
    "from sklearn.metrics import mean_squared_error\n",
    "from sklearn import datasets, linear_model\n",
    "from sklearn.model_selection import cross_validate\n",
    "from sklearn.model_selection import train_test_split"
   ]
  },
  {
   "cell_type": "markdown",
   "metadata": {},
   "source": [
    "### Load and preprocess data"
   ]
  },
  {
   "cell_type": "code",
   "execution_count": null,
   "metadata": {
    "scrolled": true
   },
   "outputs": [],
   "source": [
    "##-- Load data\n",
    "df=pd.read_csv('INCA_data.csv',index_col=None)\n",
    "\n",
    "##-- Parse variables | static_vars = all psychometric variables\n",
    "all_vars, static_vars = df.iloc[:,5:50], df.iloc[:,10:50]\n",
    "\n",
    "##-- CTQ -> Trauma\n",
    "ctq_vars = df.iloc[:,12:18]\n",
    "##-- DERS -> Emotion Regulation\n",
    "ders_vars = df.iloc[:,18:24]\n",
    "##-- Personality scale\n",
    "personality_vars = df.iloc[:,25:45]\n",
    "##-- Demographics\n",
    "demographic_vars = df.iloc[:,6:10]\n",
    "\n",
    "##-- Sums of scales\n",
    "df_sums=df.filter(items=['v_sig','a_sig',\"IQ\",\"BDI\",\"CTQ\",'DERS','STAI','PIES','EHI'])\n",
    "\n",
    "##-- Parse VR values\n",
    "V_VR, A_VR = [df[['v_sig']]], [df[['a_sig']]]"
   ]
  },
  {
   "cell_type": "markdown",
   "metadata": {},
   "source": [
    "### Initialize LASSO functions\n",
    "* Perform LASSO regressions to analyze how different features influence a target variable, and it does so for multiple groups of features. It also identifies the optimal regularization strength (alpha) via cross-validation."
   ]
  },
  {
   "cell_type": "markdown",
   "metadata": {},
   "source": [
    "`lasso` function\n",
    "* Takes input features X and target variable y\n",
    "* Generates alpha values for Lasso regularization\n",
    "* Splits data into training and test sets\n",
    "* Trains Lasso models with different alpha values, stores coefficients\n",
    "* Plots coefficients against alpha values\n",
    "* Finds the optimal alpha value using LassoCV (cross-validation)\n",
    "* Refits the Lasso model using the optimal alpha\n",
    "* Computes and prints R2 score, mean squared error, and coefficients\n",
    "\n",
    "`lasso_IN` function\n",
    "* Takes a group of input features X_group, a target variable y_predictor, and psychometric data static_vars\n",
    "* For each group of variables in X_group, it concatenates them with static_vars and calls the lasso function"
   ]
  },
  {
   "cell_type": "code",
   "execution_count": null,
   "metadata": {
    "tags": []
   },
   "outputs": [],
   "source": [
    "def lasso(X,y):\n",
    "    \n",
    "    ##-- Generate alphas\n",
    "    alphas = 10**np.linspace(1,-2,36)*0.5\n",
    "    \n",
    "    ##-- Split train & test data\n",
    "    X_train, X_test , y_train, y_test = \\\n",
    "    train_test_split(X, y, test_size=.5, random_state=42)\n",
    "    \n",
    "    ##-- Train + plot LASSO model\n",
    "    lasso = Lasso(max_iter=100000)\n",
    "    coefs = [] \n",
    "\n",
    "    for a in alphas: \n",
    "        lasso.set_params(alpha=a) \n",
    "        lasso.fit(X_train, y_train)\n",
    "        coefs.append(lasso.coef_)\n",
    "\n",
    "    ax = plt.gca()\n",
    "    ax.plot(alphas, coefs)\n",
    "    ax.set_xscale('log')   \n",
    "    plt.axis('tight') \n",
    "    plt.xlabel(r'alpha $\\alpha$') \n",
    "    plt.ylabel('weights (coefs)')\n",
    "    plt.title('y = %s | x = static_vars + %s' % (y.name,X.columns[0]))\n",
    "    ax.legend(labels=pd.Series(X.columns), \\\n",
    "              loc=0, bbox_to_anchor=(1.3, .75)) \n",
    "    plt.show()\n",
    "\n",
    "    ##-- Select the best alpha via cross validation (CV)\n",
    "    lassocv = LassoCV(cv=18, max_iter=100000) \n",
    "    params = lassocv.fit(X_train, y_train)\n",
    "\n",
    "    ##-- Refit LASSO model with optimal alpha\n",
    "    ref_lasso_cv = lasso.set_params(alpha=lassocv.alpha_) \n",
    "    ref_params = lasso.fit(X_train, y_train) \n",
    "    \n",
    "    ##-- Determine R2 score\n",
    "    y_pred_lasso = lasso.fit(X_train, y_train).predict(X_test)\n",
    "    r2_score_lasso = r2_score(y_test, y_pred_lasso)\n",
    "    print(\"r^2 on test data : %f\\n\" % r2_score_lasso)\n",
    "\n",
    "    ##-- Compute error\n",
    "    mse = mean_squared_error(y_test, lasso.predict(X_test))\n",
    "\n",
    "    ##-- Determine CV alpha\n",
    "    cv_alpha = lassocv.alpha_\n",
    "    print('MSE: %f \\n\\nCV alpha: %f \\n\\nCV params: \\n\\n%s\\n' % (mse, cv_alpha, params))\n",
    "    \n",
    "    ##-- LASSO parameters\n",
    "    print('LASSO params: \\n\\n%s\\n' % ref_params)\n",
    "\n",
    "    ##-- Coefficient estimates\n",
    "    ce = pd.Series(lasso.coef_, index=X.columns)\n",
    "    print('LASSO coefficient estimates: \\n%s' % ce)\n",
    "    \n",
    "    ##-- OPTIONAL: Sparse coefficient estimates\n",
    "    sce = pd.Series(lasso.sparse_coef_, index=X.columns)\n",
    "    print('lasso sparse coefficient estimates: \\n%s' % sce)     \n",
    "    \n",
    "    return"
   ]
  },
  {
   "cell_type": "code",
   "execution_count": null,
   "metadata": {},
   "outputs": [],
   "source": [
    "def lasso_IN(X_group,y_predictor,static_vars):\n",
    "    for var in X_group:\n",
    "        y_var = y_predictor\n",
    "        X_var = pd.concat([var,static_vars], axis=1)\n",
    "        lasso(X_var,y_var)\n",
    "    return"
   ]
  },
  {
   "cell_type": "code",
   "execution_count": null,
   "metadata": {},
   "outputs": [],
   "source": [
    "##-- valence brain states (IN fMRI values - SVM output) vs cog-behav variables\n",
    "lasso_IN(A_VR,df['v_sig'],static_vars)"
   ]
  },
  {
   "cell_type": "code",
   "execution_count": null,
   "metadata": {
    "scrolled": true
   },
   "outputs": [],
   "source": [
    "##-- arousal brain states (IN fMRI values - SVM output) vs cog-behav variables\n",
    "lasso_IN(V_VR,df['a_sig'],static_vars)"
   ]
  }
 ],
 "metadata": {
  "kernelspec": {
   "display_name": "Python 3 (ipykernel)",
   "language": "python",
   "name": "python3"
  },
  "language_info": {
   "codemirror_mode": {
    "name": "ipython",
    "version": 3
   },
   "file_extension": ".py",
   "mimetype": "text/x-python",
   "name": "python",
   "nbconvert_exporter": "python",
   "pygments_lexer": "ipython3",
   "version": "3.9.12"
  }
 },
 "nbformat": 4,
 "nbformat_minor": 4
}
