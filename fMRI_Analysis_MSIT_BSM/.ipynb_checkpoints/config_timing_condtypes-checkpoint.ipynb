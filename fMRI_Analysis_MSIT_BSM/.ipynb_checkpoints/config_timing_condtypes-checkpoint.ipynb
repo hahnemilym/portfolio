{
 "cells": [
  {
   "cell_type": "code",
   "execution_count": 1,
   "metadata": {},
   "outputs": [],
   "source": [
    "import csv\n",
    "from itertools import repeat\n",
    "import pandas as pd\n",
    "from pandas import read_csv, DataFrame, Index, MultiIndex\n",
    "from IPython.display import display\n",
    "import numpy as np"
   ]
  },
  {
   "cell_type": "code",
   "execution_count": 2,
   "metadata": {
    "scrolled": true
   },
   "outputs": [],
   "source": [
    "## Generate .csv for timing\n",
    "\n",
    "with open('msit_I-C.par') as tsvin, \\\n",
    "open('msit_bsm_stim.csv', 'wb') as csvout:\n",
    "    tsvin = csv.reader(tsvin, delimiter='\\t')\n",
    "    for row in tsvin:\n",
    "        csvout.write(\"%s\\n\" % row[0])"
   ]
  },
  {
   "cell_type": "code",
   "execution_count": 3,
   "metadata": {},
   "outputs": [],
   "source": [
    "## Generate .csv for each condition type\n",
    "\n",
    "with open('msit_I-C.par') as tsvin, \\\n",
    "open('congruent.csv', 'wb') as congruent, \\\n",
    "open('incongruent.csv', 'wb') as incongruent, \\\n",
    "open('combined.csv', 'wb') as combined:\n",
    "    tsvin = csv.reader(tsvin, delimiter='\\t')\n",
    "    for row in tsvin:\n",
    "        if row[1]=='1':\n",
    "            congruent.write(\"%s \\n\" % 1)\n",
    "            incongruent.write(\"%s \\n\" % 0)\n",
    "            combined.write(\"%s \\n\" % 1)\n",
    "        elif row[1]=='2':\n",
    "            congruent.write(\"%s \\n\" % 0)\n",
    "            incongruent.write(\"%s \\n\" % 1)\n",
    "            combined.write(\"%s \\n\" % 1)\n",
    "        else:\n",
    "            congruent.write(\"%s \\n\" % 'NaN')\n",
    "            incongruent.write(\"%s \\n\" % 'NaN')\n",
    "            combined.write(\"%s \\n\" % 'NaN')"
   ]
  },
  {
   "cell_type": "code",
   "execution_count": null,
   "metadata": {},
   "outputs": [],
   "source": []
  }
 ],
 "metadata": {
  "kernelspec": {
   "display_name": "Python 2",
   "language": "python",
   "name": "python2"
  },
  "language_info": {
   "codemirror_mode": {
    "name": "ipython",
    "version": 2
   },
   "file_extension": ".py",
   "mimetype": "text/x-python",
   "name": "python",
   "nbconvert_exporter": "python",
   "pygments_lexer": "ipython2",
   "version": "2.7.13"
  }
 },
 "nbformat": 4,
 "nbformat_minor": 2
}
