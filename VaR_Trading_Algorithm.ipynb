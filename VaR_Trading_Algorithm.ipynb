{
 "cells": [
  {
   "cell_type": "markdown",
   "id": "91d3c6e8-7f5f-43d4-bb91-a3923872a0c3",
   "metadata": {
    "tags": []
   },
   "source": [
    "## Trading Algorithm\n",
    "***"
   ]
  },
  {
   "cell_type": "markdown",
   "id": "315cc4d6-d17e-4568-9768-2c7661158d54",
   "metadata": {},
   "source": [
    "#### Value at Risk (VaR) Trading Strategy\n",
    "This code includes a simple historical VaR calculation (calculates VaR based on the last 30 days of price changes for wheat). If the VaR limit is exceeded (i.e. is less than the set limit, -3%), it doesn't enter a new position or exits the current position by triggering a sell action, thereby minimizing risk. "
   ]
  },
  {
   "cell_type": "markdown",
   "id": "7abfe40d-21ed-4d6c-b79d-c62a2d5092b3",
   "metadata": {},
   "source": [
    "#### Trading Algorithm - Code Overview\n",
    "\n",
    "1. Downloads historical prices for wheat and corn futures.\n",
    "2. Performs cointegration tests over 30-day windows.\n",
    "3. Calculates Value at Risk (VaR) based on past 30-day price changes.\n",
    "4. Buys wheat if cointegrated with corn and VaR is within limit.\n",
    "5. Includes risk management using stop-loss and take-profit levels.\n",
    "6. Sells position if stop-loss, take-profit, or VaR limit is triggered.\n",
    "7. Outputs final capital.\n",
    "8. It aims to trade based on statistical relationships while managing risks.\n",
    "\n",
    "***"
   ]
  },
  {
   "cell_type": "markdown",
   "id": "b617c744-73b5-4c32-80b6-3f606c06a80d",
   "metadata": {},
   "source": [
    "#### Install required libraries\n",
    "`pip install yfinance statsmodels`"
   ]
  },
  {
   "cell_type": "code",
   "execution_count": null,
   "id": "1baa1944-0419-40f4-95da-714965688935",
   "metadata": {},
   "outputs": [],
   "source": [
    "import yfinance as yf\n",
    "import numpy as np\n",
    "import statsmodels.api as sm"
   ]
  },
  {
   "cell_type": "code",
   "execution_count": null,
   "id": "63d346a3-de4b-46f1-a266-a37b212bd18f",
   "metadata": {},
   "outputs": [],
   "source": [
    "def calculate_var(price_changes, confidence_level=0.95):\n",
    "    \"\"\"Calculate Value at Risk (VaR) given price changes and confidence level\"\"\"\n",
    "    return -np.percentile(price_changes, 100 * (1 - confidence_level))"
   ]
  },
  {
   "cell_type": "code",
   "execution_count": null,
   "id": "a395ddf5-eea0-42f8-adf0-dc5070f1640f",
   "metadata": {},
   "outputs": [],
   "source": [
    "##-- Download historical data for wheat and corn futures\n",
    "wheat_data = yf.download('ZW=F', start='2022-01-01', end='2022-12-31', interval='1d')\n",
    "corn_data = yf.download('ZC=F', start='2022-01-01', end='2022-12-31', interval='1d')\n",
    "\n",
    "##-- Close prices\n",
    "wheat_prices = wheat_data['Close'].dropna().tolist()\n",
    "corn_prices = corn_data['Close'].dropna().tolist()\n",
    "\n",
    "##-- Initialize variables\n",
    "capital = 1000\n",
    "position = 0\n",
    "entry_price = 0\n",
    "window_size = 30\n",
    "var_limit = -0.03  # -3% VaR limit\n",
    "\n",
    "##-- Risk Management\n",
    "stop_loss_percent = 0.02\n",
    "take_profit_percent = 0.05"
   ]
  },
  {
   "cell_type": "code",
   "execution_count": null,
   "id": "5121bd79-12ca-479a-9e20-bfea99f78cc3",
   "metadata": {},
   "outputs": [],
   "source": [
    "for i in range(window_size, min(len(wheat_prices), len(corn_prices))):\n",
    "    \n",
    "    ##-- Cointegration test\n",
    "    y = wheat_prices[i-window_size:i]\n",
    "    X = corn_prices[i-window_size:i]\n",
    "    X = sm.add_constant(X)\n",
    "    model = sm.OLS(y, X).fit()\n",
    "    residuals = model.resid\n",
    "    p_value = sm.tsa.adfuller(residuals)[1]\n",
    "\n",
    "    ##-- Price changes for VaR\n",
    "    price_changes = [wheat_prices[j] / wheat_prices[j-1] - 1 for j in range(i-window_size+1, i)]\n",
    "\n",
    "    ##-- Calculate VaR\n",
    "    current_var = calculate_var(price_changes)\n",
    "\n",
    "    ##-- Buy if p-value is low (cointegrated)\n",
    "    if p_value < 0.05 and position == 0 and current_var > var_limit:\n",
    "        position = capital / wheat_prices[i]\n",
    "        entry_price = wheat_prices[i]\n",
    "        capital = 0\n",
    "        print(f\"Buy at {wheat_prices[i]}. Position: {position}\")\n",
    "\n",
    "    ##-- Risk Management\n",
    "    if position > 0:\n",
    "        if wheat_prices[i] <= entry_price * (1 - stop_loss_percent):\n",
    "            capital = position * wheat_prices[i]\n",
    "            print(f\"Stop Loss Triggered. Sell at {wheat_prices[i]}. Capital: {capital}\")\n",
    "            position = 0\n",
    "        elif wheat_prices[i] >= entry_price * (1 + take_profit_percent):\n",
    "            capital = position * wheat_prices[i]\n",
    "            print(f\"Take Profit Triggered. Sell at {wheat_prices[i]}. Capital: {capital}\")\n",
    "            position = 0\n",
    "        elif current_var <= var_limit:\n",
    "            capital = position * wheat_prices[i]\n",
    "            print(f\"VaR Limit Exceeded. Sell at {wheat_prices[i]}. Capital: {capital}\")\n",
    "            position = 0"
   ]
  },
  {
   "cell_type": "code",
   "execution_count": null,
   "id": "783c99e0-48f7-4794-8676-95666294f6b3",
   "metadata": {},
   "outputs": [],
   "source": [
    "##-- Final capital\n",
    "if position > 0:\n",
    "    capital = position * wheat_prices[-1]\n",
    "print(f\"Final Capital: {capital}\")"
   ]
  }
 ],
 "metadata": {
  "kernelspec": {
   "display_name": "Python 3 (ipykernel)",
   "language": "python",
   "name": "python3"
  },
  "language_info": {
   "codemirror_mode": {
    "name": "ipython",
    "version": 3
   },
   "file_extension": ".py",
   "mimetype": "text/x-python",
   "name": "python",
   "nbconvert_exporter": "python",
   "pygments_lexer": "ipython3",
   "version": "3.9.12"
  }
 },
 "nbformat": 4,
 "nbformat_minor": 5
}
